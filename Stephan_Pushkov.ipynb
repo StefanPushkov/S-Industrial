{
  "nbformat": 4,
  "nbformat_minor": 0,
  "metadata": {
    "colab": {
      "name": "S-Industrial-Final",
      "provenance": [],
      "collapsed_sections": []
    },
    "kernelspec": {
      "name": "python3",
      "display_name": "Python 3"
    }
  },
  "cells": [
    {
      "cell_type": "code",
      "metadata": {
        "id": "cB_QSahBo8od",
        "colab_type": "code",
        "colab": {}
      },
      "source": [
        "import pandas as pd\n",
        "import numpy as np\n",
        "from sklearn.preprocessing import StandardScaler\n",
        "from sklearn.ensemble import RandomForestClassifier\n",
        "from sklearn.model_selection import train_test_split\n",
        "from pathlib import Path\n",
        "from sklearn.metrics import roc_auc_score, f1_score\n",
        "from joblib import dump, load\n",
        "np.random.seed(42)"
      ],
      "execution_count": 0,
      "outputs": []
    },
    {
      "cell_type": "code",
      "metadata": {
        "id": "EaoXKRwKpYQ5",
        "colab_type": "code",
        "colab": {}
      },
      "source": [
        "# Загружаем данные\n",
        "data_info_all = pd.read_csv(Path('drive/My Drive/S-Industrial/data/inn_info_public.csv'))\n",
        "data_pays = pd.read_csv(Path('drive/My Drive/S-Industrial/data/pays.csv'))"
      ],
      "execution_count": 0,
      "outputs": []
    },
    {
      "cell_type": "markdown",
      "metadata": {
        "id": "fmwdCvN4lPu6",
        "colab_type": "text"
      },
      "source": [
        "### Features generation ###\n"
      ]
    },
    {
      "cell_type": "code",
      "metadata": {
        "id": "7NsLdbkLut9E",
        "colab_type": "code",
        "colab": {}
      },
      "source": [
        "# ОБЩАЯ СУММА ПЕРЕВОДОВ (kt)\n",
        "data_pays['total_sum_kt'] = data_pays.groupby(['hash_inn_kt'])[\"sum\"].transform(\"sum\")\n",
        "\n",
        "# ОБЩАЯ СУММА \"ПОЛУЧЕНИЙ\" (dt)\n",
        "data_pays['total_sum_dt'] = data_pays.groupby(['hash_inn_dt'])[\"sum\"].transform(\"sum\")\n",
        "\n",
        "# ОБЩЕЕ ЧИСЛО ПЕРЕВОДОВ \n",
        "data_pays['nums_of_kt'] = data_pays.groupby(['hash_inn_kt'])[\"count\"].transform(\"count\")\n",
        "\n",
        "# ОБЩЕЕ ЧИСЛО ПОЛУЧЕНИЙ\n",
        "data_pays['nums_of_dt'] = data_pays.groupby(['hash_inn_dt'])[\"count\"].transform(\"count\")"
      ],
      "execution_count": 0,
      "outputs": []
    },
    {
      "cell_type": "code",
      "metadata": {
        "id": "CcUuiUGB-CWi",
        "colab_type": "code",
        "colab": {}
      },
      "source": [
        "# Посчитаем средний размер транзакции \n",
        "data_pays['mean_pay'] = data_pays['sum']/ data_pays['count']"
      ],
      "execution_count": 0,
      "outputs": []
    },
    {
      "cell_type": "code",
      "metadata": {
        "id": "iYcDMMsout27",
        "colab_type": "code",
        "colab": {}
      },
      "source": [
        "# СОЗДАЁМ dict, В КОТОРЫХ КЛЮЧ - ИНН, ЗНАЧЕНИЕ - ОБЩАЯ СУММА ПЕРЕВОДОВ (kt)\n",
        "dict_total_sum_kt = pd.Series(data_pays.total_sum_kt.values,index=data_pays.hash_inn_kt).to_dict()\n",
        "# СОЗДАЁМ dict, В КОТОРЫХ КЛЮЧ - ИНН, ЗНАЧЕНИЕ - ОБЩАЯ СУММА \"ПОЛУЧЕНИЙ\" (dt)\n",
        "dict_total_sum_dt = pd.Series(data_pays.total_sum_dt.values,index=data_pays.hash_inn_dt).to_dict()"
      ],
      "execution_count": 0,
      "outputs": []
    },
    {
      "cell_type": "code",
      "metadata": {
        "id": "Wh2KV1xtwgym",
        "colab_type": "code",
        "colab": {}
      },
      "source": [
        "# СОЗДАЁМ dict, В КОТОРЫХ КЛЮЧ - ИНН, ЗНАЧЕНИЕ - ОБЩАЯ ЧИСЛО ПЕРЕВОДОВ \n",
        "dict_nums_of_kt = pd.Series(data_pays.nums_of_kt.values,index=data_pays.hash_inn_kt).to_dict()\n",
        "# СОЗДАЁМ dict, В КОТОРЫХ КЛЮЧ - ИНН, ЗНАЧЕНИЕ - ОБЩeЯ ЧИСЛО ПОЛУЧЕНИЙ \n",
        "dict_nums_of_dt = pd.Series(data_pays.nums_of_dt.values,index=data_pays.hash_inn_dt).to_dict()"
      ],
      "execution_count": 0,
      "outputs": []
    },
    {
      "cell_type": "code",
      "metadata": {
        "id": "80121_uiwirq",
        "colab_type": "code",
        "colab": {}
      },
      "source": [
        "# СОЗДАЁМ dict, В КОТОРЫХ КЛЮЧ - ИНН, ЗНАЧЕНИЕ - СРЕДНИЙ РАЗМЕР ТРАНЗАКЦИИ  \n",
        "dict_mean_pay = pd.Series(data_pays.mean_pay.values,index=data_pays.hash_inn_kt).to_dict()"
      ],
      "execution_count": 0,
      "outputs": []
    },
    {
      "cell_type": "code",
      "metadata": {
        "id": "s7dqNxF1wl4c",
        "colab_type": "code",
        "colab": {}
      },
      "source": [
        "# Перенесём полученные фичи в dataframe data_info_all\n",
        "\n",
        "data_info_all['total_sum_kt'] = data_info_all['hash_inn'].map(dict_total_sum_kt)\n",
        "data_info_all['total_sum_dt'] = data_info_all['hash_inn'].map(dict_total_sum_dt)\n",
        "data_info_all['nums_of_kt'] = data_info_all['hash_inn'].map(dict_nums_of_kt)\n",
        "data_info_all['nums_of_dt'] = data_info_all['hash_inn'].map(dict_nums_of_dt)\n",
        "data_info_all['mean_pay'] = data_info_all['hash_inn'].map(dict_mean_pay)\n",
        "data_info_all = pd.merge(data_pays[['hash_inn_kt','week']], data_info_all, left_on='hash_inn_kt', right_on='hash_inn', how='right')\n"
      ],
      "execution_count": 0,
      "outputs": []
    },
    {
      "cell_type": "code",
      "metadata": {
        "id": "kRXpiBmHwsBZ",
        "colab_type": "code",
        "colab": {}
      },
      "source": [
        "# Разделим данные: есть таргет\n",
        "data_info_train = data_info_all[data_info_all.is_public == True]\n",
        "# /нет таргета\n",
        "data_info_to_predict = data_info_all[data_info_all.is_public == False]"
      ],
      "execution_count": 0,
      "outputs": []
    },
    {
      "cell_type": "code",
      "metadata": {
        "id": "mjYGCVXFwuQv",
        "colab_type": "code",
        "colab": {}
      },
      "source": [
        "# Nan -> -1\n",
        "data_info_train = data_info_train.fillna(-1)\n",
        "data_info_to_predict = data_info_to_predict.fillna(-1)"
      ],
      "execution_count": 0,
      "outputs": []
    },
    {
      "cell_type": "code",
      "metadata": {
        "id": "OS75r4uNwxYR",
        "colab_type": "code",
        "colab": {}
      },
      "source": [
        "X_tr = data_info_train[['total_sum_kt', 'total_sum_dt','mean_pay', 'nums_of_kt', 'nums_of_dt']]\n",
        "y_tr = data_info_train[['okved2']].astype(int)\n",
        "\n",
        "sc= StandardScaler()\n",
        "X_tr = sc.fit_transform(X_tr)\n",
        "\n",
        "X_train, X_test, y_train, y_test = train_test_split(X_tr, y_tr, test_size=0.2, random_state=1)"
      ],
      "execution_count": 0,
      "outputs": []
    },
    {
      "cell_type": "code",
      "metadata": {
        "id": "u87o2D44w1Ab",
        "colab_type": "code",
        "outputId": "e2708815-0757-4f61-bfb1-093ba38d2080",
        "colab": {
          "base_uri": "https://localhost:8080/",
          "height": 401
        }
      },
      "source": [
        "clf = RandomForestClassifier(8, random_state=42, verbose=3, n_jobs=-1)\n",
        "clf.fit(X_train, y_train)"
      ],
      "execution_count": 12,
      "outputs": [
        {
          "output_type": "stream",
          "text": [
            "/usr/local/lib/python3.6/dist-packages/ipykernel_launcher.py:2: DataConversionWarning: A column-vector y was passed when a 1d array was expected. Please change the shape of y to (n_samples,), for example using ravel().\n",
            "  \n",
            "[Parallel(n_jobs=-1)]: Using backend ThreadingBackend with 2 concurrent workers.\n"
          ],
          "name": "stderr"
        },
        {
          "output_type": "stream",
          "text": [
            "building tree 1 of 8building tree 2 of 8\n",
            "\n",
            "building tree 3 of 8\n",
            "building tree 4 of 8\n",
            "building tree 5 of 8\n",
            "building tree 6 of 8\n",
            "building tree 7 of 8\n",
            "building tree 8 of 8\n"
          ],
          "name": "stdout"
        },
        {
          "output_type": "stream",
          "text": [
            "[Parallel(n_jobs=-1)]: Done   8 out of   8 | elapsed:   53.7s remaining:    0.0s\n",
            "[Parallel(n_jobs=-1)]: Done   8 out of   8 | elapsed:   53.7s finished\n"
          ],
          "name": "stderr"
        },
        {
          "output_type": "execute_result",
          "data": {
            "text/plain": [
              "RandomForestClassifier(bootstrap=True, ccp_alpha=0.0, class_weight=None,\n",
              "                       criterion='gini', max_depth=None, max_features='auto',\n",
              "                       max_leaf_nodes=None, max_samples=None,\n",
              "                       min_impurity_decrease=0.0, min_impurity_split=None,\n",
              "                       min_samples_leaf=1, min_samples_split=2,\n",
              "                       min_weight_fraction_leaf=0.0, n_estimators=8, n_jobs=-1,\n",
              "                       oob_score=False, random_state=42, verbose=3,\n",
              "                       warm_start=False)"
            ]
          },
          "metadata": {
            "tags": []
          },
          "execution_count": 12
        }
      ]
    },
    {
      "cell_type": "code",
      "metadata": {
        "id": "wha6KO5V8dx5",
        "colab_type": "code",
        "colab": {
          "base_uri": "https://localhost:8080/",
          "height": 87
        },
        "outputId": "15588ecc-5062-4377-83e1-7c61716c2ad0"
      },
      "source": [
        "# Оцениваем \n",
        "f1_score(y_test, clf.predict(X_test), average='weighted')"
      ],
      "execution_count": 18,
      "outputs": [
        {
          "output_type": "stream",
          "text": [
            "[Parallel(n_jobs=2)]: Using backend ThreadingBackend with 2 concurrent workers.\n",
            "[Parallel(n_jobs=2)]: Done   8 out of   8 | elapsed:    3.0s remaining:    0.0s\n",
            "[Parallel(n_jobs=2)]: Done   8 out of   8 | elapsed:    3.0s finished\n"
          ],
          "name": "stderr"
        },
        {
          "output_type": "execute_result",
          "data": {
            "text/plain": [
              "0.980977964636035"
            ]
          },
          "metadata": {
            "tags": []
          },
          "execution_count": 18
        }
      ]
    },
    {
      "cell_type": "code",
      "metadata": {
        "id": "SkNv7O8l8ybV",
        "colab_type": "code",
        "colab": {
          "base_uri": "https://localhost:8080/",
          "height": 401
        },
        "outputId": "2101b2a5-e1a5-41ed-f280-0d2b2f317d12"
      },
      "source": [
        "# Обучаем на всех данных \n",
        "clf = RandomForestClassifier(8, random_state=42, verbose=3, n_jobs=-1)\n",
        "clf.fit(X_tr, y_tr)"
      ],
      "execution_count": 19,
      "outputs": [
        {
          "output_type": "stream",
          "text": [
            "/usr/local/lib/python3.6/dist-packages/ipykernel_launcher.py:2: DataConversionWarning: A column-vector y was passed when a 1d array was expected. Please change the shape of y to (n_samples,), for example using ravel().\n",
            "  \n",
            "[Parallel(n_jobs=-1)]: Using backend ThreadingBackend with 2 concurrent workers.\n"
          ],
          "name": "stderr"
        },
        {
          "output_type": "stream",
          "text": [
            "building tree 1 of 8building tree 2 of 8\n",
            "\n",
            "building tree 3 of 8\n",
            "building tree 4 of 8\n",
            "building tree 5 of 8\n",
            "building tree 6 of 8\n",
            "building tree 7 of 8\n",
            "building tree 8 of 8\n"
          ],
          "name": "stdout"
        },
        {
          "output_type": "stream",
          "text": [
            "[Parallel(n_jobs=-1)]: Done   8 out of   8 | elapsed:   35.9s remaining:    0.0s\n",
            "[Parallel(n_jobs=-1)]: Done   8 out of   8 | elapsed:   35.9s finished\n"
          ],
          "name": "stderr"
        },
        {
          "output_type": "execute_result",
          "data": {
            "text/plain": [
              "RandomForestClassifier(bootstrap=True, ccp_alpha=0.0, class_weight=None,\n",
              "                       criterion='gini', max_depth=None, max_features='auto',\n",
              "                       max_leaf_nodes=None, max_samples=None,\n",
              "                       min_impurity_decrease=0.0, min_impurity_split=None,\n",
              "                       min_samples_leaf=1, min_samples_split=2,\n",
              "                       min_weight_fraction_leaf=0.0, n_estimators=8, n_jobs=-1,\n",
              "                       oob_score=False, random_state=42, verbose=3,\n",
              "                       warm_start=False)"
            ]
          },
          "metadata": {
            "tags": []
          },
          "execution_count": 19
        }
      ]
    },
    {
      "cell_type": "markdown",
      "metadata": {
        "id": "AQIK_IjQl6mv",
        "colab_type": "text"
      },
      "source": [
        "### Create submission ###"
      ]
    },
    {
      "cell_type": "code",
      "metadata": {
        "id": "EVHamFJ5l-jZ",
        "colab_type": "code",
        "colab": {
          "base_uri": "https://localhost:8080/",
          "height": 69
        },
        "outputId": "bea6ef28-59fe-47a8-959f-11af14392f65"
      },
      "source": [
        "# Предсказываем на тестовой выборке \n",
        "X_to_predict = data_info_to_predict[['total_sum_kt', 'total_sum_dt','mean_pay', 'nums_of_kt', 'nums_of_dt']]\n",
        "X_to_predict = sc.fit_transform(X_to_predict)\n",
        "\n",
        "predicted_okved2 = clf.predict(X_to_predict)\n"
      ],
      "execution_count": 20,
      "outputs": [
        {
          "output_type": "stream",
          "text": [
            "[Parallel(n_jobs=2)]: Using backend ThreadingBackend with 2 concurrent workers.\n",
            "[Parallel(n_jobs=2)]: Done   8 out of   8 | elapsed:    5.7s remaining:    0.0s\n",
            "[Parallel(n_jobs=2)]: Done   8 out of   8 | elapsed:    5.7s finished\n"
          ],
          "name": "stderr"
        }
      ]
    },
    {
      "cell_type": "code",
      "metadata": {
        "id": "VRR4ATDrmBGu",
        "colab_type": "code",
        "colab": {}
      },
      "source": [
        "submission = pd.DataFrame({'hash_inn':data_info_to_predict['hash_inn'],'y':predicted_okved2})"
      ],
      "execution_count": 0,
      "outputs": []
    },
    {
      "cell_type": "code",
      "metadata": {
        "id": "lByDxSWHKsOu",
        "colab_type": "code",
        "outputId": "2f03384d-3879-4cce-8f6e-3a0d3287a151",
        "colab": {
          "base_uri": "https://localhost:8080/",
          "height": 35
        }
      },
      "source": [
        "filename = 'drive/My Drive/S-Industrial/data/StephanPushkov-10022020-SberbankIndustry.csv'\n",
        "\n",
        "submission.to_csv(filename,index=False)\n",
        "\n",
        "print('Saved file: ', filename)"
      ],
      "execution_count": 22,
      "outputs": [
        {
          "output_type": "stream",
          "text": [
            "Saved file:  drive/My Drive/S-Industrial/data/StephanPushkov-10022020-SberbankIndustry.csv\n"
          ],
          "name": "stdout"
        }
      ]
    },
    {
      "cell_type": "code",
      "metadata": {
        "id": "xQwBCvnAe48x",
        "colab_type": "code",
        "outputId": "7fbb308e-54e9-4e32-fc0e-d6fe5f87793a",
        "colab": {
          "base_uri": "https://localhost:8080/",
          "height": 415
        }
      },
      "source": [
        "submission"
      ],
      "execution_count": 23,
      "outputs": [
        {
          "output_type": "execute_result",
          "data": {
            "text/html": [
              "<div>\n",
              "<style scoped>\n",
              "    .dataframe tbody tr th:only-of-type {\n",
              "        vertical-align: middle;\n",
              "    }\n",
              "\n",
              "    .dataframe tbody tr th {\n",
              "        vertical-align: top;\n",
              "    }\n",
              "\n",
              "    .dataframe thead th {\n",
              "        text-align: right;\n",
              "    }\n",
              "</style>\n",
              "<table border=\"1\" class=\"dataframe\">\n",
              "  <thead>\n",
              "    <tr style=\"text-align: right;\">\n",
              "      <th></th>\n",
              "      <th>hash_inn</th>\n",
              "      <th>y</th>\n",
              "    </tr>\n",
              "  </thead>\n",
              "  <tbody>\n",
              "    <tr>\n",
              "      <th>0</th>\n",
              "      <td>0</td>\n",
              "      <td>55</td>\n",
              "    </tr>\n",
              "    <tr>\n",
              "      <th>1</th>\n",
              "      <td>0</td>\n",
              "      <td>55</td>\n",
              "    </tr>\n",
              "    <tr>\n",
              "      <th>2</th>\n",
              "      <td>0</td>\n",
              "      <td>55</td>\n",
              "    </tr>\n",
              "    <tr>\n",
              "      <th>3</th>\n",
              "      <td>0</td>\n",
              "      <td>55</td>\n",
              "    </tr>\n",
              "    <tr>\n",
              "      <th>4</th>\n",
              "      <td>0</td>\n",
              "      <td>55</td>\n",
              "    </tr>\n",
              "    <tr>\n",
              "      <th>...</th>\n",
              "      <td>...</td>\n",
              "      <td>...</td>\n",
              "    </tr>\n",
              "    <tr>\n",
              "      <th>5518048</th>\n",
              "      <td>69928</td>\n",
              "      <td>12</td>\n",
              "    </tr>\n",
              "    <tr>\n",
              "      <th>5518051</th>\n",
              "      <td>164291</td>\n",
              "      <td>12</td>\n",
              "    </tr>\n",
              "    <tr>\n",
              "      <th>5518053</th>\n",
              "      <td>212835</td>\n",
              "      <td>12</td>\n",
              "    </tr>\n",
              "    <tr>\n",
              "      <th>5518055</th>\n",
              "      <td>156954</td>\n",
              "      <td>12</td>\n",
              "    </tr>\n",
              "    <tr>\n",
              "      <th>5518057</th>\n",
              "      <td>196702</td>\n",
              "      <td>12</td>\n",
              "    </tr>\n",
              "  </tbody>\n",
              "</table>\n",
              "<p>1740337 rows × 2 columns</p>\n",
              "</div>"
            ],
            "text/plain": [
              "         hash_inn   y\n",
              "0               0  55\n",
              "1               0  55\n",
              "2               0  55\n",
              "3               0  55\n",
              "4               0  55\n",
              "...           ...  ..\n",
              "5518048     69928  12\n",
              "5518051    164291  12\n",
              "5518053    212835  12\n",
              "5518055    156954  12\n",
              "5518057    196702  12\n",
              "\n",
              "[1740337 rows x 2 columns]"
            ]
          },
          "metadata": {
            "tags": []
          },
          "execution_count": 23
        }
      ]
    },
    {
      "cell_type": "code",
      "metadata": {
        "id": "cpcmfJscuD6k",
        "colab_type": "code",
        "colab": {}
      },
      "source": [
        ""
      ],
      "execution_count": 0,
      "outputs": []
    },
    {
      "cell_type": "code",
      "metadata": {
        "id": "5tn2xEkwqOM7",
        "colab_type": "code",
        "outputId": "d7a838f0-9cbc-4e10-b607-12d0db7597fa",
        "colab": {
          "base_uri": "https://localhost:8080/",
          "height": 139
        }
      },
      "source": [
        "names = ['chislo_vseh_perevodov', 'chislo_vseh_recive','mean_pay',\n",
        "       'region', 'sum_perevodov', 'sum_recive',\n",
        "       'week']\n",
        "sorted(zip(clf.feature_importances_.tolist(), names))"
      ],
      "execution_count": 0,
      "outputs": [
        {
          "output_type": "execute_result",
          "data": {
            "text/plain": [
              "[(0.008944682166640667, 'week'),\n",
              " (0.08687014664809739, 'region'),\n",
              " (0.1542722149341164, 'mean_pay'),\n",
              " (0.17654695602037163, 'sum_perevodov'),\n",
              " (0.18571890917729972, 'chislo_vseh_recive'),\n",
              " (0.19317360189112573, 'sum_recive'),\n",
              " (0.1944734891623485, 'chislo_vseh_perevodov')]"
            ]
          },
          "metadata": {
            "tags": []
          },
          "execution_count": 29
        }
      ]
    },
    {
      "cell_type": "code",
      "metadata": {
        "id": "Y-VmtnGDqyH5",
        "colab_type": "code",
        "colab": {}
      },
      "source": [
        "# data_info_all_2 = pd.merge(data_pays[['hash_inn_dt','week']], data_info_all, left_on='hash_inn_dt', right_on='hash_inn', how='right')\n",
        "# data_info_all = pd.concat([data_info_all_1, data_info_all_2], ignore_index=True)"
      ],
      "execution_count": 0,
      "outputs": []
    },
    {
      "cell_type": "code",
      "metadata": {
        "id": "uaafnU8T98El",
        "colab_type": "code",
        "colab": {}
      },
      "source": [
        "# Посчитаем количесвто уникальных инн для каждого региона \n",
        "# data_info_all['unique_inn_in_region'] = data_info_all.groupby(['region'])[\"hash_inn\"].transform(\"count\")"
      ],
      "execution_count": 0,
      "outputs": []
    }
  ]
}